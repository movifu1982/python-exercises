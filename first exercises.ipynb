{
 "cells": [
  {
   "cell_type": "code",
   "execution_count": 2,
   "metadata": {},
   "outputs": [
    {
     "name": "stdout",
     "output_type": "stream",
     "text": [
      "40\n",
      "My name is Monica\n",
      "TRUE\n"
     ]
    }
   ],
   "source": [
    "#exercise 1 and 2\n",
    "\n",
    "my_age = 40\n",
    "print (my_age)\n",
    "\n",
    "\n",
    "my_name = \"Monica\"\n",
    "print (\"My name is\", my_name)\n",
    "\n",
    "julia_age = 32\n",
    "age_diff = (my_age) - (julia_age)\n",
    "if (my_age) >= (julia_age):\n",
    "     print (\"TRUE\")\n",
    "\n"
   ]
  },
  {
   "cell_type": "code",
   "execution_count": null,
   "metadata": {},
   "outputs": [],
   "source": [
    "#exercise 3\n",
    "x = 21\n",
    "if (my_age) >= (x):\n",
    "     print(\"You are older than 21\")\n",
    "else: \n",
    "    print(\"You are not older than 21\")"
   ]
  },
  {
   "cell_type": "code",
   "execution_count": 8,
   "metadata": {},
   "outputs": [
    {
     "name": "stdout",
     "output_type": "stream",
     "text": [
      "TRUE\n",
      "You are older than 21\n"
     ]
    }
   ],
   "source": [
    "# exercise 3\n",
    "\n",
    "julia_age = 32\n",
    "age_diff = (my_age) - (julia_age)\n",
    "if (my_age) >= (julia_age):\n",
    "     print (\"TRUE\")\n",
    "\n",
    "     x = 40\n",
    "if (my_age) >= (x):\n",
    "     print(\"You are older than 21\")\n",
    "else: \n",
    "    print(\"You are not older than 21\")"
   ]
  },
  {
   "cell_type": "code",
   "execution_count": 171,
   "metadata": {},
   "outputs": [
    {
     "name": "stdout",
     "output_type": "stream",
     "text": [
      "You are older than 21\n"
     ]
    }
   ],
   "source": [
    "#exercise 4\n",
    "my_age = 40\n",
    "\n",
    "x = 40\n",
    "if (my_age) >= (x):\n",
    "     print(\"You are older than 21\")\n",
    "else: \n",
    "    print(\"You are not older than 21\")"
   ]
  },
  {
   "cell_type": "code",
   "execution_count": 85,
   "metadata": {},
   "outputs": [
    {
     "name": "stdout",
     "output_type": "stream",
     "text": [
      "You are older than Julia\n"
     ]
    }
   ],
   "source": [
    "#exercise 5\n",
    "\n",
    "if (my_age) >= (julia_age):\n",
    "     print(\"You are older than Julia\")\n",
    "else: \n",
    "    print(\"You are not older than Julia\")"
   ]
  },
  {
   "cell_type": "code",
   "execution_count": null,
   "metadata": {},
   "outputs": [],
   "source": [
    "#Lists and loops"
   ]
  },
  {
   "cell_type": "code",
   "execution_count": 173,
   "metadata": {},
   "outputs": [
    {
     "name": "stdout",
     "output_type": "stream",
     "text": [
      "Jana\n",
      "Ursula\n"
     ]
    }
   ],
   "source": [
    "#exercise 6\n",
    "\n",
    "names = [\"Monica\", \"Ursula\", \"Sandra\", \"Jana\", \"Myrna\"]\n",
    "list.sort (names)\n",
    "print(names[0])\n",
    "print(names[4])\n"
   ]
  },
  {
   "cell_type": "code",
   "execution_count": 251,
   "metadata": {},
   "outputs": [
    {
     "name": "stdout",
     "output_type": "stream",
     "text": [
      "[20, 25, 30, 35, 40]\n",
      "20 30 40 "
     ]
    }
   ],
   "source": [
    "#exercise 7 think of: quotation marks, curly brackets! \n",
    "\n",
    "list_ages = [20, 25, 30, 35, 40]\n",
    "print (list_ages)\n",
    "for num in list_ages:\n",
    "    if num % 2 == 0:\n",
    "        print(num, end=\" \")\n",
    "        "
   ]
  },
  {
   "cell_type": "code",
   "execution_count": 253,
   "metadata": {},
   "outputs": [
    {
     "name": "stdout",
     "output_type": "stream",
     "text": [
      "20\n",
      "40\n"
     ]
    },
    {
     "data": {
      "text/plain": [
       "40"
      ]
     },
     "execution_count": 253,
     "metadata": {},
     "output_type": "execute_result"
    }
   ],
   "source": [
    "#exercise 8 and 9, should have used min and max\n",
    "\n",
    "sorted (list_ages)\n",
    "set (list_ages)\n",
    "print (list_ages[0])\n",
    "print (list_ages[-1])\n",
    "\n",
    "min(list_ages)\n",
    "max(list_ages)\n"
   ]
  },
  {
   "cell_type": "code",
   "execution_count": 81,
   "metadata": {},
   "outputs": [
    {
     "name": "stdout",
     "output_type": "stream",
     "text": [
      "23\n",
      "27\n",
      "17\n",
      "12\n",
      "15\n",
      "16\n",
      "28\n",
      "26\n",
      "43\n",
      "14\n"
     ]
    }
   ],
   "source": [
    "#exercise 10 should have got the datetime import, for real time, not fixed manually input (2022)\n",
    "\n",
    "birth_years_list = [1999, 1995, 2005, 2010, 2007, 2006, 1994, 1996, 1979, 2008]\n",
    "\n",
    "for birth_year in birth_years_list:\n",
    "\n",
    "    current_year = 2022\n",
    "\n",
    "    final = current_year - birth_year\n",
    "    print (final)"
   ]
  },
  {
   "cell_type": "code",
   "execution_count": 4,
   "metadata": {},
   "outputs": [],
   "source": [
    "#exercise 11 my version. I need to fix this!\n",
    "\n",
    "#customer_list = [ {\"name\": \"Bob\", \"age\": 1999},\n",
    "#                 {\"name\": \"Jack\", \"age\": 1995},\n",
    "#                 {\"name\": \"Lisa\", \"age\": 2005},\n",
    "#                {\"name\": \"Maria\", \"age\": 2010},\n",
    "#                {\"name\": \"Ben\", \"age\": 2007},\n",
    "#                {\"name\": \"Emma\", \"age\": 2006},\n",
    "#                {\"name\": \"Oscar\", \"age\": 1994},\n",
    "#                {\"name\": \"Amy\", \"age\": 1996},\n",
    "#                {\"name\": \"Paul\", \"age\": 1979},\n",
    "#                {\"name\": \"Etta\", \"age\": 2008}]\n",
    "#for name in customer_list:\n",
    "#    print(name)\n",
    "\n",
    "#for person in (customer_list):\n",
    "#    print (2022 - person[\"age\"])\n",
    "\n",
    "#for name in customer_list:\n",
    "#    print(f\"name[\"name\"], \"is\" ,customer_list[age] \"years old\")\n",
    "\n"
   ]
  },
  {
   "cell_type": "code",
   "execution_count": 6,
   "metadata": {},
   "outputs": [
    {
     "name": "stdout",
     "output_type": "stream",
     "text": [
      "[20, 24, 14, 12, 13, 25, 23, 11]\n"
     ]
    }
   ],
   "source": [
    "# exercise 12 use - and positive numbers SLICING 1:11 etc. index location. \n",
    "\n",
    "\n",
    "\n",
    "ages = [20, 24, 14, 9, 12, 13, 25, 23, 40, 11]\n",
    "ages.remove(min(ages))\n",
    "ages.remove(max(ages))\n",
    "print (ages)\n",
    "\n"
   ]
  },
  {
   "cell_type": "code",
   "execution_count": 265,
   "metadata": {},
   "outputs": [
    {
     "name": "stdout",
     "output_type": "stream",
     "text": [
      "[9, 11, 12, 13, 14, 20, 23, 24, 25, 40]\n",
      "[11, 12, 13, 14, 20, 23, 24, 25]\n"
     ]
    }
   ],
   "source": [
    "#exercise 12 correct version #pop can be used, remove elements in that location, in place solution\n",
    "ages = [20, 24, 14, 9, 12, 13, 25, 23, 40, 11]\n",
    "ages.sort()\n",
    "print(ages)\n",
    "ages [0:10]\n",
    "print (ages[1:-1])\n"
   ]
  },
  {
   "cell_type": "code",
   "execution_count": 206,
   "metadata": {},
   "outputs": [
    {
     "name": "stdout",
     "output_type": "stream",
     "text": [
      "{10, 13, 15, 16, 18, 19}\n"
     ]
    },
    {
     "data": {
      "text/plain": [
       "{10, 13, 15, 16, 18, 19}"
      ]
     },
     "execution_count": 206,
     "metadata": {},
     "output_type": "execute_result"
    }
   ],
   "source": [
    "#exercise 13 nested loops! intersection\n",
    "\n",
    "berlin = {15, 13, 16, 18, 19, 10, 12}\n",
    "munich = {7, 13, 15, 20, 19, 18, 10, 16}\n",
    "\n",
    "final = berlin & munich\n",
    "print (final)\n",
    "\n",
    "berlin.intersection(munich)\n"
   ]
  },
  {
   "cell_type": "code",
   "execution_count": 274,
   "metadata": {},
   "outputs": [
    {
     "name": "stdout",
     "output_type": "stream",
     "text": [
      "[15]\n",
      "[15, 13]\n",
      "[15, 13, 16]\n",
      "[15, 13, 16, 18]\n",
      "[15, 13, 16, 18, 19]\n",
      "[15, 13, 16, 18, 19, 10]\n"
     ]
    }
   ],
   "source": [
    "#exercise 13. use sets! loop or function\n",
    "\n",
    "berlin = [15, 13, 16, 18, 19, 10, 12 ]\n",
    "munich = [7, 13, 15, 20, 19, 18, 10, 16]\n",
    "common2= []\n",
    "for num in berlin:\n",
    "    if num in munich:\n",
    "        common2.append(num)\n",
    "        print (common2)\n",
    "\n",
    "\n"
   ]
  },
  {
   "cell_type": "code",
   "execution_count": 278,
   "metadata": {},
   "outputs": [
    {
     "name": "stdout",
     "output_type": "stream",
     "text": [
      "[15, 13, 16, 18, 19, 10]\n"
     ]
    }
   ],
   "source": [
    "#Ex. 13 list comprehension\n",
    "\n",
    "berlin = [15, 13, 16, 18, 19, 10, 12 ]\n",
    "munich = [7, 13, 15, 20, 19, 18, 10, 16]\n",
    "\n",
    "common = [num for num in berlin if num in munich]\n",
    "\n",
    "print (common)\n",
    "\n"
   ]
  },
  {
   "cell_type": "code",
   "execution_count": 279,
   "metadata": {},
   "outputs": [
    {
     "data": {
      "text/plain": [
       "{10, 13, 15, 16, 18, 19}"
      ]
     },
     "execution_count": 279,
     "metadata": {},
     "output_type": "execute_result"
    }
   ],
   "source": [
    "#Ex. 13 class, unique elements. dosent show the 15 in berlin twice = problem\n",
    "\n",
    "berlin = [15, 13, 16, 18, 19, 10, 12 ]\n",
    "munich = [7, 13, 15, 20, 19, 18, 10, 16]\n",
    "\n",
    "set(berlin).intersection(munich)"
   ]
  },
  {
   "cell_type": "code",
   "execution_count": 76,
   "metadata": {},
   "outputs": [
    {
     "name": "stdout",
     "output_type": "stream",
     "text": [
      "[15, 13, 16, 18, 19, 15, 10]\n",
      "[15, 13, 16, 18, 19, 10]\n"
     ]
    }
   ],
   "source": [
    "# exercise 14 could have used set function\n",
    "\n",
    "remove_dup = [15,13,16,18,19,15,10]\n",
    "print (remove_dup)\n",
    "remove_dup = list(dict.fromkeys(remove_dup))\n",
    "print (remove_dup)"
   ]
  },
  {
   "cell_type": "code",
   "execution_count": null,
   "metadata": {},
   "outputs": [],
   "source": [
    "#FUNCTIONS"
   ]
  },
  {
   "cell_type": "code",
   "execution_count": 3,
   "metadata": {},
   "outputs": [
    {
     "name": "stdout",
     "output_type": "stream",
     "text": [
      "Welcome, Jost, have a nice day\n"
     ]
    }
   ],
   "source": [
    "#exercise 15\n",
    "\n",
    "\n",
    "a = (\"Welcome, \")\n",
    "b = (\", have a nice day\")\n",
    "\n",
    "c = (\"Jost\")\n",
    "\n",
    "print (a + c + b)\n",
    "\n"
   ]
  },
  {
   "cell_type": "code",
   "execution_count": 296,
   "metadata": {},
   "outputs": [
    {
     "name": "stdout",
     "output_type": "stream",
     "text": [
      "2\n"
     ]
    },
    {
     "data": {
      "text/plain": [
       "2"
      ]
     },
     "execution_count": 296,
     "metadata": {},
     "output_type": "execute_result"
    }
   ],
   "source": [
    "#exercise 16 need a function here, use return with a function\n",
    "\n",
    "#Function name: get_length\n",
    "\n",
    "list_of_word = (\"Hello\")\n",
    "\n",
    "#break\n",
    "\n",
    "list_of_word = (\"Hi\")\n",
    "\n",
    "len (list_of_word)\n",
    "\n",
    "print(len(list_of_word))\n",
    "\n",
    "##########\n",
    "\n",
    "def get_length (string):\n",
    "    x = len(string)\n",
    "    return x\n",
    "\n",
    "get_length(\"Hello\")\n",
    "get_length(\"Hi\")\n",
    "\n",
    "\n"
   ]
  },
  {
   "cell_type": "code",
   "execution_count": 6,
   "metadata": {},
   "outputs": [],
   "source": [
    "#exercise 17 I need to fix this!\n",
    "\n",
    "#function name: check_even\n",
    "#check_even(6) would print / return 'Yes'\n",
    "#check_even(5) would print / return 'No'\n",
    "\n",
    "\n",
    "#list = [5,6]\n",
    "#for num in list:\n",
    "#    if num % 2 == 0:\n",
    "#        print (num, end= \"\")\n",
    "#        if remainder ==0:\n",
    "#            print (\"Yes\")\n",
    "\n",
    "#def K_solution(num):\n",
    "#return \"yes\" if num%2 ==0 else \"no\"\n"
   ]
  },
  {
   "cell_type": "code",
   "execution_count": null,
   "metadata": {},
   "outputs": [],
   "source": [
    "#exercise 18\n",
    "\n",
    "#Rewrite exercises 11, 12, 13, 14, 15 in a function."
   ]
  },
  {
   "cell_type": "code",
   "execution_count": null,
   "metadata": {},
   "outputs": [],
   "source": [
    "#exercise 19\n",
    "#Write a function that takes an input list and value of age to find as input and return true or false if the age value is present or not in the list."
   ]
  }
 ],
 "metadata": {
  "kernelspec": {
   "display_name": "Python 3.9.12 ('base')",
   "language": "python",
   "name": "python3"
  },
  "language_info": {
   "codemirror_mode": {
    "name": "ipython",
    "version": 3
   },
   "file_extension": ".py",
   "mimetype": "text/x-python",
   "name": "python",
   "nbconvert_exporter": "python",
   "pygments_lexer": "ipython3",
   "version": "3.9.12"
  },
  "orig_nbformat": 4,
  "vscode": {
   "interpreter": {
    "hash": "53268d429fe8007277d58353424377c3c56a51408f44f169cee4649a7ccfd4de"
   }
  }
 },
 "nbformat": 4,
 "nbformat_minor": 2
}
